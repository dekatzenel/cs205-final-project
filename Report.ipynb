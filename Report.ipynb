{
 "cells": [
  {
   "cell_type": "code",
   "execution_count": 37,
   "metadata": {
    "collapsed": false
   },
   "outputs": [],
   "source": [
    "from IPython import display"
   ]
  },
  {
   "cell_type": "markdown",
   "metadata": {},
   "source": [
    "#What is the problem you are trying to solve with this application?\n"
   ]
  },
  {
   "cell_type": "markdown",
   "metadata": {
    "collapsed": true
   },
   "source": [
    "Our project is an exploration of two different levels of parallelism for enhancing the simulated annealing method of finding the optimal path in a Traveling Salesman Problem (TSP).  \n",
    "\n",
    "The objective of the Traveling Salesman Problem is to find the shortest path in a complete undirected weighted graph that visits every node exactly once.  The weights of the edges between the nodes of the graph represent the distances between them, which can vary.  The nodes can be visited in any order, and the path ends at the starting node.  \n",
    "\n",
    "This problem is NP-hard, which in practical terms means that the only guaranteed way to find the true optimum is to consider every possible path.  The number of possible paths within a network of N cities is equal to N!, which for even a very small network of cities is very large, making an exhaustive search computationally expensive.  Various optimization methods can be used to find a path that is close to the optimum distance while only considering a small subset of all the possible paths.  \n"
   ]
  },
  {
   "cell_type": "markdown",
   "metadata": {},
   "source": [
    "#Describe your data in detail: where did it come from, how did you acquire it, what does it mean, etc.\n"
   ]
  },
  {
   "cell_type": "markdown",
   "metadata": {
    "collapsed": true
   },
   "source": [
    "We tested our application on a graph of cities taken from the Library of Traveling Salesman Problems, which is available on the Heidelberg University's Interdisciplinary Center for Scientific Computing website: \n",
    "\n",
    "\n",
    "http://www.iwr.uni-heidelberg.de/groups/comopt/software/TSPLIB95/XML-TSPLIB/instances/\n",
    "\n",
    "\n",
    "The graphs on this website are downloadable in xml format, and contain the distances between each pair of cities.  We parsed these into numpy arrays that could easily be used in our program.  "
   ]
  },
  {
   "cell_type": "markdown",
   "metadata": {},
   "source": [
    "#Describe your program design and why you chose the features you did.\n"
   ]
  },
  {
   "cell_type": "markdown",
   "metadata": {
    "collapsed": true
   },
   "source": [
    "One such optimization method for finding the shortest path in the Traveling Salesman Problem is simulated annealing.  \n",
    "\n",
    "Simulated Annealing works as follows: First, an initial path through the graph is randomly selected and the distance of this path is calculated. This starting set is then \"perturbed\" by randomly switching the order of two or more of the cities in the path, and the distance of this new path is calculated. The next iteration of the algorithm will either use the new path or the path from the previous iteration; this is determined probabilistically based on the difference in \"energy\" (in this case, the difference between the distances of the two paths, denoted ∆E) and the \"temperature\" (T) of that given point in the algorithm. The temperature parameter changes throughout the algorithm, aadjusting the probability of accepting the next path. This probability of accepting a new path is given by the equation P(X = j) = exp(−∆E/T).  \n",
    "\n",
    "If the temperature is high, the algorithm is more likely to accept a new path even though it returned a longer distance. Varying the temperature throughout the iterations of the algorithm allows it to consider paths that do not look promising at ﬁrst glance, but may, with slight modiﬁcation, yield better paths than those that were previously being considered. However, as the temperature decreases, longer paths become less likely to be accepted and the algorithm should be able to refine its search in a promising direction. An intuitive way to conceptualize temperature in the simulation is to think of a low temperature as representing a conservative approach and a high temperature as representing a more daring approach.  The temperature of the algorithm cools as it coalesces on a local minimum, and is periodically raised again to attempt to push the algorithm out of the local minimum to ideally find a lower local minimum.  \n",
    "\n",
    "The main advantage of the Simulated Annealing algorithm is that it can search a very large discrete sample space without considering the entire, extremely large set of possibilities. In addition, it does so in a strategic way by iterating upon promising tracks, but without constraining itself to one small subset of the sample space.  In this way, it avoids becoming trapped in local minima of the sample space.  Of course, because it does not consider every path, it may not return the true optimum.\n",
    "\n",
    "Parallel Tempering is a related optimization method in which multiple processes stochastically consider permutations of a starting path.  Each of these processes behaves analogously to simulated annealing: a path is perturbed, the new distance is calculated, and the next iteration continues with either the new path or the previous path with a probability that is given by the equation P(X = j) = exp(−∆E/T).  Rather than varying the temperature within each process as in simulated annealing, however, the temperature varies among the processes, and each process maintains a constant temperature throughout the simulation.  The processes communicate at a defined interval and swap the path that they are considering with a probability that is related to the difference in distance of the current path that each is considering.  In this way, the algorithm benefits from parallelism by using \"hot\" threads to be more daring in their exploration of the search space, while the \"cold\" ones refine the results that they receive from the hot threads with a more conservative exploration.  \n",
    "\n",
    "We implemented simulated annealing as a baseline, and then developed two implementations of parallel tempering.  The first is a \"serial parallel tempering\", in which at each step, the algorithm iterates over each process in a for-loop.  The second is \"parallel parallel tempering\", which uses the Python multiprocessing module to truly run each process in parallel.  \n",
    "\n",
    "The goal was to demonstrate that parallelism could be used to improve the path search to find an optimum with fewer total computations, and then use multiprocessing to also reduce total execution time.  "
   ]
  },
  {
   "cell_type": "markdown",
   "metadata": {},
   "source": [
    "#How do you use your application (mouse and keyboard functions, input/output, etc)?\n"
   ]
  },
  {
   "cell_type": "markdown",
   "metadata": {
    "collapsed": true
   },
   "source": [
    "Our application is a set of python functions that can be run on the command line.  "
   ]
  },
  {
   "cell_type": "markdown",
   "metadata": {},
   "source": [
    "#What is the performance of your code? What speedup and efficiency did you achieve? What optimizations did you implement to achieve this speedup?\n"
   ]
  },
  {
   "cell_type": "markdown",
   "metadata": {
    "collapsed": true
   },
   "source": [
    "##1) Parameter selection"
   ]
  },
  {
   "cell_type": "markdown",
   "metadata": {},
   "source": [
    "###For the purposes of picking a number of processes to test parameter selection with, we calculated the run time for 10,000 iteration runs of parallel parallel tempering using a range of number of processes: \n"
   ]
  },
  {
   "cell_type": "code",
   "execution_count": 39,
   "metadata": {
    "collapsed": false
   },
   "outputs": [
    {
     "data": {
      "image/png": "[encoded data removed]",
      "text/plain": [
       "<IPython.core.display.Image object>"
      ]
     },
     "execution_count": 39,
     "metadata": {},
     "output_type": "execute_result"
    }
   ],
   "source": [
    "display.Image('Efficiency.png')"
   ]
  },
  {
   "cell_type": "markdown",
   "metadata": {},
   "source": [
    "4 processes was the most time efficient parallel implementation, so we did our performance tests with 4 processes. \n",
    "\n",
    "Next, we optimized the parameters for parallel tempering.  There were three parameters to optimize, and there are an infinite number of combinations of these that can be used, so we did a simple gradient descent to pick these.  With some more time to dial in the best parameters, we would have done a more exhaustive search, but we deemed this exploration to be representative of the process, which could easily be extended.  As it was, the set of best parameters that we identified using this method produced quite good results, and the focus of the project was to examine parallelism, not to find the optimal parameters for the implementations.  \n",
    "\n",
    "To search the parameters, we did some quick 'back of the envelope' calculations:\n",
    "\n",
    "We chose to do 30 runs per parameter combination to find an average performance for each combination.  \n",
    "\n",
    "30 runs of 10,000 iterations per combination at 3 seconds each results in 1.5 minutes per combination tested.  We wished to use no more than a half hour of run time for the parameter search, so this gave us 20 parameter combinations to check.  With three parameters to optimize (ratio between temperature of each process, number of city swaps per change, and number of iterations between swap considerations), we decided that we could test 6 values for each parameter.  \n",
    "\n",
    "The first parameter we tested was the ratio of the temperature of the processes.  Based on a suggestion from the literature ________(?), we used a constant ratio between the processes.  We tested a range of ratios between 1 (all threads have temperature=1), sqrt(2), sqrt(3), sqrt(4), sqrt(5), and sqrt(6). \n",
    "\n",
    "The results follow:\n",
    "\n",
    "####Best ratio to use is the square root of 5.0\n",
    "####Time: 599.1 seconds to compute\n",
    "\n",
    "Next, using the best temperature ratio value of sqrt(5.0), we tested a range of number of swaps per consideration.  This ranged from 1 to 6.  \n",
    "\n",
    "####Best number of swaps to use is 1\n",
    "####Time: 649.7 seconds to compute\n",
    "\n",
    "Next, using the best temperature ratio and the best number of swaps (1), we tested a range of swap interval values.  We tested values of 10, 20, 40, 80, 160, and 320.  \n",
    "\n",
    "####Best swapping interval is 320\n",
    "####Time: 437.9 seconds to compute\n",
    "\n",
    "Because this interval was the greatest value that we considered, we ran one more test, extending the range of values that we tested to 80, 160, 320, 480, and 640.  \n",
    "\n",
    "####Best swapping interval is 480\n",
    "####Time: 340.9 seconds to compute\n",
    "\n",
    "We used these parameters (temperature ratio = sqrt(5.0), numper of swaps = 1, swapping interval = 480) for the performance tests.  \n",
    "\n",
    "To make the parallel tempering implementations comparable to simulated annealing, we used analogous parameters for this method.  The starting temperature was the highest temperature of the parallel tempering processes, the temperature cooled at a rate equal to the ratio of the temperature of the parallel tempering cools, and reheating occurred when the temperature reached the lowest temperature of the parallel tempering processes.  Number of swaps was the same, and the reannealing interval was set to the same swapping interval that was used in parallel tempering.  "
   ]
  },
  {
   "cell_type": "code",
   "execution_count": null,
   "metadata": {
    "collapsed": true
   },
   "outputs": [],
   "source": []
  },
  {
   "cell_type": "code",
   "execution_count": null,
   "metadata": {
    "collapsed": true
   },
   "outputs": [],
   "source": []
  },
  {
   "cell_type": "code",
   "execution_count": null,
   "metadata": {
    "collapsed": true
   },
   "outputs": [],
   "source": []
  },
  {
   "cell_type": "markdown",
   "metadata": {},
   "source": [
    "#What interesting insights did you gain from this project?\n"
   ]
  },
  {
   "cell_type": "code",
   "execution_count": null,
   "metadata": {
    "collapsed": false
   },
   "outputs": [],
   "source": [
    "\n",
    "\n",
    "\n",
    "\n",
    "\n",
    "\n",
    "\n",
    "\n",
    "\n",
    "\n",
    "\n"
   ]
  },
  {
   "cell_type": "markdown",
   "metadata": {},
   "source": [
    "#What extensions and improvements can you suggest?\n"
   ]
  },
  {
   "cell_type": "code",
   "execution_count": null,
   "metadata": {
    "collapsed": true
   },
   "outputs": [],
   "source": []
  },
  {
   "cell_type": "markdown",
   "metadata": {},
   "source": [
    "#What did you most enjoy about working on this project? What was the most challenging aspect? What was the most frustrating? What would you do differently next time?"
   ]
  },
  {
   "cell_type": "code",
   "execution_count": null,
   "metadata": {
    "collapsed": true
   },
   "outputs": [],
   "source": []
  },
  {
   "cell_type": "code",
   "execution_count": null,
   "metadata": {
    "collapsed": true
   },
   "outputs": [],
   "source": []
  },
  {
   "cell_type": "code",
   "execution_count": null,
   "metadata": {
    "collapsed": true
   },
   "outputs": [],
   "source": []
  },
  {
   "cell_type": "code",
   "execution_count": null,
   "metadata": {
    "collapsed": true
   },
   "outputs": [],
   "source": []
  },
  {
   "cell_type": "code",
   "execution_count": null,
   "metadata": {
    "collapsed": true
   },
   "outputs": [],
   "source": []
  },
  {
   "cell_type": "code",
   "execution_count": null,
   "metadata": {
    "collapsed": true
   },
   "outputs": [],
   "source": []
  },
  {
   "cell_type": "code",
   "execution_count": null,
   "metadata": {
    "collapsed": true
   },
   "outputs": [],
   "source": []
  },
  {
   "cell_type": "code",
   "execution_count": null,
   "metadata": {
    "collapsed": true
   },
   "outputs": [],
   "source": []
  },
  {
   "cell_type": "code",
   "execution_count": 1,
   "metadata": {
    "collapsed": false
   },
   "outputs": [
    {
     "name": "stdout",
     "output_type": "stream",
     "text": [
      "Best path: [ 0 24 23 22 25 21 20 16 17 19 18 15 10 11 12 14 13  9  8  7  6  4  5  3  2\n",
      "  1]\n",
      "Best path length: 937.0\n",
      "\n"
     ]
    }
   ],
   "source": [
    "# Import packages\n",
    "import numpy as np\n",
    "from matplotlib import pylab as plt\n",
    "%matplotlib inline\n",
    "import pandas as pd\n",
    "\n",
    "# Import files\n",
    "from annealing_helper_functions import distance, changepath, simulated_annealing, serial_parallel_tempering\n",
    "from parallelism import parallel_parallel_tempering\n",
    "from timer import Timer\n",
    "from xml_parse import parse_xml_graph\n",
    "\n",
    "# Parse graph\n",
    "graph = parse_xml_graph('fri26.xml')\n",
    "#Square matrix\n",
    "assert graph.shape[0] == graph.shape[1]\n",
    "size = graph.shape[0]\n",
    "\n",
    "# Hardcoded best path to validate distance calculations, zero-indexed\n",
    "bestpath = np.asarray([x-1 for x in [1, 25, 24, 23, 26, 22, 21, 17, 18, 20, 19, 16, 11, 12, 13, 15, 14, 10, 9, 8, 7, 5, 6, 4, 3, 2]])\n",
    "print \"Best path: \" + str(bestpath)\n",
    "print \"Best path length: \" + str(distance(graph, bestpath)) + \"\\n\""
   ]
  },
  {
   "cell_type": "code",
   "execution_count": 2,
   "metadata": {
    "collapsed": false
   },
   "outputs": [
    {
     "name": "stdout",
     "output_type": "stream",
     "text": [
      "Initial path: [22  8 17 10  5 20  7  1  0  3 19 25 24  9 16 13 11 23 14 21  4 12 18  2 15\n",
      "  6]\n",
      "Initial path length: 2975.0\n",
      "\n"
     ]
    }
   ],
   "source": [
    "# A random initial path, used as a starting point for the different optimizations to compare\n",
    "initial_path = np.random.permutation(size)\n",
    "print \"Initial path: \" + str(initial_path)\n",
    "print \"Initial path length: \" + str(distance(graph, initial_path)) + \"\\n\""
   ]
  },
  {
   "cell_type": "markdown",
   "metadata": {},
   "source": [
    "### I create a list of a million possible paths to get an idea about the distribution of all possible paths."
   ]
  },
  {
   "cell_type": "code",
   "execution_count": 3,
   "metadata": {
    "collapsed": true
   },
   "outputs": [],
   "source": [
    "li = []\n",
    "for i in range(1000000): li.append(distance(graph,np.random.permutation(size)))"
   ]
  },
  {
   "cell_type": "code",
   "execution_count": 20,
   "metadata": {
    "collapsed": false
   },
   "outputs": [
    {
     "data": {
      "image/png": "[encoded data removed]",
      "text/plain": [
       "<matplotlib.figure.Figure at 0x116dba90>"
      ]
     },
     "metadata": {},
     "output_type": "display_data"
    }
   ],
   "source": [
    "plt.hist(li, bins=12, label=\"Distr of paths\")\n",
    "plt.axvline(distance(graph,bestpath), color = 'r', label = \"Best Path\")\n",
    "plt.xlim([0,5000])\n",
    "plt.legend(loc='best')\n",
    "plt.title('Distribution of Paths, including best path');"
   ]
  },
  {
   "cell_type": "markdown",
   "metadata": {},
   "source": [
    "### In this sample of 1 million paths, the average path length was 2693 and the minimum path length was 1725, so the chances of randomly finding a path as short as the true minimum (937) are quite low.  When you think about it this way, it's kind of amazing that you can get within a couple hundred of the true minimum pretty easily by considering far less than 1% of all possible paths.  "
   ]
  },
  {
   "cell_type": "code",
   "execution_count": 33,
   "metadata": {
    "collapsed": false,
    "scrolled": false
   },
   "outputs": [
    {
     "data": {
      "text/plain": [
       "count    1000000.000000\n",
       "mean        2693.156735\n",
       "std          208.645040\n",
       "min         1725.000000\n",
       "25%         2554.000000\n",
       "50%         2699.000000\n",
       "75%         2839.000000\n",
       "max         3538.000000\n",
       "dtype: float64"
      ]
     },
     "execution_count": 33,
     "metadata": {},
     "output_type": "execute_result"
    }
   ],
   "source": [
    "pd.Series(li).describe()"
   ]
  },
  {
   "cell_type": "code",
   "execution_count": null,
   "metadata": {
    "collapsed": true
   },
   "outputs": [],
   "source": []
  },
  {
   "cell_type": "code",
   "execution_count": null,
   "metadata": {
    "collapsed": true
   },
   "outputs": [],
   "source": []
  },
  {
   "cell_type": "markdown",
   "metadata": {},
   "source": [
    "### Example of Simulated Annealing:"
   ]
  },
  {
   "cell_type": "code",
   "execution_count": 15,
   "metadata": {
    "collapsed": false
   },
   "outputs": [],
   "source": [
    "iterr = 10000\n",
    "initial_temp = 5\n",
    "cool = 0.8\n",
    "nbefore = 10\n",
    "nswaps = 3\n",
    "reheat = 0.2"
   ]
  },
  {
   "cell_type": "code",
   "execution_count": 16,
   "metadata": {
    "collapsed": false,
    "scrolled": false
   },
   "outputs": [
    {
     "name": "stdout",
     "output_type": "stream",
     "text": [
      "Iterations: 1.00E+04\n",
      "Calculated path: [ 7  8  6  5  3  1  4  2  9 13 14  0 24 23 22 25 21 20 16 12 11 10 15 19 17\n",
      " 18]\n",
      "Calculated path length: 1160.0\n",
      "Wall time: 1.45 s\n"
     ]
    }
   ],
   "source": [
    "%%time\n",
    "# 10000 iteration runs of simulated annealing take about 1.2 seconds on my computer\n",
    "solution, history= simulated_annealing(graph, distance, \n",
    "                                    initial_path, initial_temp, nbefore,\n",
    "                                    iterr, changepath, nswaps, reheat, cool)\n",
    "print \"Iterations: {:.2E}\".format(iterr)\n",
    "print \"Calculated path: \" + str(solution)\n",
    "print \"Calculated path length: \" + str(distance(graph, solution))"
   ]
  },
  {
   "cell_type": "markdown",
   "metadata": {},
   "source": [
    "### Here is an example what the history of the energies and temperatures look like:"
   ]
  },
  {
   "cell_type": "code",
   "execution_count": 17,
   "metadata": {
    "collapsed": false,
    "scrolled": false
   },
   "outputs": [
    {
     "data": {
      "image/png": "[encoded data removed]",
      "text/plain": [
       "<matplotlib.figure.Figure at 0xd1970f0>"
      ]
     },
     "metadata": {},
     "output_type": "display_data"
    }
   ],
   "source": [
    "fig, ax1 = plt.subplots()\n",
    "\n",
    "ax1.plot(range(iterr + 1), [row[2] for row in history], 'r')\n",
    "ax1.set_ylabel('Temperature', color='r')\n",
    "for t1 in ax1.get_yticklabels():\n",
    "    t1.set_color('r')\n",
    "ax2 = ax1.twinx()\n",
    "ax2.plot(range(iterr + 1), [row[0] for row in history], 'b-')\n",
    "ax2.set_xlabel('Time')\n",
    "ax2.set_ylabel('Distance', color='b')\n",
    "for t2 in ax2.get_yticklabels():\n",
    "    t2.set_color('b')\n",
    "\n"
   ]
  },
  {
   "cell_type": "markdown",
   "metadata": {},
   "source": [
    "### You can get a really good idea of how each parameter changes the behavior by examining the graph.  Ideally, the Distance will bounce around in the beginning, settle down at a low level, bounce around again once it heats back up, and then settle down again, ideally at a lower level than last time.  "
   ]
  },
  {
   "cell_type": "code",
   "execution_count": 87,
   "metadata": {
    "collapsed": false
   },
   "outputs": [
    {
     "name": "stdout",
     "output_type": "stream",
     "text": [
      "Iterations: 1.00E+04\n",
      "Calculated path: [15  9 13 14 12 11 20 25 17 16  8  4  5  3 10 21 22 23 24  0  1  2  6  7 19\n",
      " 18]\n",
      "Calculated path length: 1264.0\n"
     ]
    },
    {
     "data": {
      "image/png": "[encoded data removed]",
      "text/plain": [
       "<matplotlib.figure.Figure at 0xdd4e6a0>"
      ]
     },
     "metadata": {},
     "output_type": "display_data"
    }
   ],
   "source": [
    "iterr = 10000\n",
    "initial_temp = 3\n",
    "cool = 0.99\n",
    "nbefore = 100\n",
    "nswaps = 1\n",
    "reheat = 0.00001\n",
    "\n",
    "# 10000 iteration runs of simulated annealing take about 1.2 seconds on my computer\n",
    "solution, history, history_temp = simulated_annealing(graph, distance, \n",
    "                                    initial_path, initial_temp, nbefore,\n",
    "                                    iterr, changepath, nswaps, reheat, cool)\n",
    "print \"Iterations: {:.2E}\".format(iterr)\n",
    "print \"Calculated path: \" + str(solution)\n",
    "print \"Calculated path length: \" + str(distance(graph, solution))\n",
    "\n",
    "fig, ax1 = plt.subplots()\n",
    "\n",
    "ax1.plot(range(iterr + 1), history, 'b-')\n",
    "ax1.set_xlabel('Time')\n",
    "ax1.set_ylabel('Distance', color='b')\n",
    "for tl in ax1.get_yticklabels():\n",
    "    tl.set_color('b')\n",
    "ax2 = ax1.twinx()\n",
    "ax2.plot(range(iterr + 1), history_temp, 'r')\n",
    "ax2.set_ylabel('Temperature', color='r')\n",
    "for t2 in ax2.get_yticklabels():\n",
    "    t2.set_color('r')"
   ]
  },
  {
   "cell_type": "code",
   "execution_count": 88,
   "metadata": {
    "collapsed": false
   },
   "outputs": [
    {
     "name": "stdout",
     "output_type": "stream",
     "text": [
      "Iterations: 1.00E+04\n",
      "Calculated path: [15  9 13 14  2  8  7  6  4  5  3  1  0 24 23 22 25 21 20 11 12 10 16 17 19\n",
      " 18]\n",
      "Calculated path length: 1039.0\n"
     ]
    },
    {
     "data": {
      "image/png": "[encoded data removed]",
      "text/plain": [
       "<matplotlib.figure.Figure at 0x105d15f8>"
      ]
     },
     "metadata": {},
     "output_type": "display_data"
    }
   ],
   "source": [
    "iterr = 10000\n",
    "initial_temp = 100\n",
    "cool = 0.99\n",
    "nbefore = 100\n",
    "nswaps = 1\n",
    "reheat = 0.00001\n",
    "\n",
    "# 10000 iteration runs of simulated annealing take about 1.2 seconds on my computer\n",
    "solution, history, history_temp = simulated_annealing(graph, distance, \n",
    "                                    initial_path, initial_temp, nbefore,\n",
    "                                    iterr, changepath, nswaps, reheat, cool)\n",
    "print \"Iterations: {:.2E}\".format(iterr)\n",
    "print \"Calculated path: \" + str(solution)\n",
    "print \"Calculated path length: \" + str(distance(graph, solution))\n",
    "\n",
    "fig, ax1 = plt.subplots()\n",
    "\n",
    "ax1.plot(range(iterr + 1), history, 'b-')\n",
    "ax1.set_xlabel('Time')\n",
    "ax1.set_ylabel('Distance', color='b')\n",
    "for tl in ax1.get_yticklabels():\n",
    "    tl.set_color('b')\n",
    "ax2 = ax1.twinx()\n",
    "ax2.plot(range(iterr + 1), history_temp, 'r')\n",
    "ax2.set_ylabel('Temperature', color='r')\n",
    "for t2 in ax2.get_yticklabels():\n",
    "    t2.set_color('r')"
   ]
  },
  {
   "cell_type": "code",
   "execution_count": 95,
   "metadata": {
    "collapsed": false
   },
   "outputs": [
    {
     "name": "stdout",
     "output_type": "stream",
     "text": [
      "Iterations: 1.00E+04\n",
      "Calculated path: [13 15 18 19 17 22 23 24 21 25 20 16 11 12 10  9  8  7  6  4  5  3  2  1  0\n",
      " 14]\n",
      "Calculated path length: 1046.0\n"
     ]
    },
    {
     "data": {
      "image/png": "[encoded data removed]",
      "text/plain": [
       "<matplotlib.figure.Figure at 0xba09f60>"
      ]
     },
     "metadata": {},
     "output_type": "display_data"
    }
   ],
   "source": [
    "iterr = 10000\n",
    "initial_temp = 1000\n",
    "cool = 0.99\n",
    "nbefore = 1\n",
    "nswaps = 1\n",
    "reheat = 0.00001\n",
    "\n",
    "# 10000 iteration runs of simulated annealing take about 1.2 seconds on my computer\n",
    "solution, history, history_temp = simulated_annealing(graph, distance, \n",
    "                                    initial_path, initial_temp, nbefore,\n",
    "                                    iterr, changepath, nswaps, reheat, cool)\n",
    "print \"Iterations: {:.2E}\".format(iterr)\n",
    "print \"Calculated path: \" + str(solution)\n",
    "print \"Calculated path length: \" + str(distance(graph, solution))\n",
    "\n",
    "fig, ax1 = plt.subplots()\n",
    "\n",
    "ax1.plot(range(iterr + 1), history, 'b-')\n",
    "ax1.set_xlabel('Time')\n",
    "ax1.set_ylabel('Distance', color='b')\n",
    "for tl in ax1.get_yticklabels():\n",
    "    tl.set_color('b')\n",
    "ax2 = ax1.twinx()\n",
    "ax2.plot(range(iterr + 1), history_temp, 'r')\n",
    "ax2.set_ylabel('Temperature', color='r')\n",
    "for t2 in ax2.get_yticklabels():\n",
    "    t2.set_color('r')"
   ]
  },
  {
   "cell_type": "markdown",
   "metadata": {},
   "source": [
    "### We need to optimize the parameters to be able to make a comparison between simulated annealing and parallel tempering.  There are five parameters that can be tuned, and the range of values for these is infinite.  This means that there are also infinite possibilities for the combinations of parameters.  Beyond this, we want to know how well each parameter combination performs on average, so we would want to run each parameter combination many times to examine its behavior.  \n",
    "###This makes a rigorous exploration of the parameters very time-comsuming, so we do a very limited exploration of the parameters as a simplified example of how the parameters can first be optimized for each implementation to compare performance between simulated annealing and parallel tempering for parameters that have been optimized for both.  We perform a simple gradient descent of the parameter combinations by exploring a range of values for the first parameter while holding the other four constant, then use the best value from this comparision to explore a range of values for the second, and so on.  "
   ]
  },
  {
   "cell_type": "markdown",
   "metadata": {},
   "source": [
    "### First I do a bit of a 'back of the envelope' calculation to do the parameter exploration in a limited amount of time.  A single 10,000 iteration run of simulated annealing takes about 1.2 seconds, so exploring a single parameter combination for 20 times to get an average should take less than 30 seconds.  Therefore, if I hold four of the parameters constant and explore a range of 10 values for the fifth parameter, each parameter exploration should take about five minutes.  Then, exploring all five should have a run time of roughly 25 minutes.  "
   ]
  },
  {
   "cell_type": "markdown",
   "metadata": {},
   "source": [
    "### To isolate the variance that would be introduced by the variety of starting paths, we will use a single random starting paths for all 20 runs of each parameter combination.  "
   ]
  },
  {
   "cell_type": "code",
   "execution_count": 58,
   "metadata": {
    "collapsed": false
   },
   "outputs": [
    {
     "name": "stdout",
     "output_type": "stream",
     "text": [
      "Best temperature found:  5\n",
      "Best cool found:  0.9\n",
      "Best nbefore found:  1000\n",
      "Best nswaps found: 1\n",
      "Best reheat:  0.4\n",
      "Wall time: 24min 55s\n"
     ]
    }
   ],
   "source": [
    "%%time\n",
    "iterr = 10000\n",
    "\n",
    "# These values are our starting points, and represent the initial value that will be considered while the earlier \n",
    "#    parameters are explored, and will then be updated after its best value is found.  At the end I will return the \n",
    "#   updated values of all five parameters, representing the best value for each that was found in its exploration.  \n",
    "# These were selected based on a cursory, unscientific tinkering of parameter values.  \n",
    "temp = 5\n",
    "cool = 0.9\n",
    "nbefore = 500\n",
    "nswaps = 5\n",
    "reheat = 0.0125\n",
    "\n",
    "# These are the ranges of values to explore for each parameter.  \n",
    "initial_temps = [1, 2, 3, 4, 5, 6, 7, 8, 9, 10]\n",
    "initial_cools = [0.7, 0.8, 0.85, 0.9, 0.95, 0.99, 0.995, 0.999, 0.9995, 0.9999]\n",
    "initial_nbefores = [100, 200, 300, 400, 500, 600, 700, 800, 900, 1000]\n",
    "initial_nswaps = [1, 2, 3, 4, 5, 6, 7, 8, 9, 10]\n",
    "initial_reheat = [0.4, 0.2, 0.1, 0.05, 0.025, 0.0125, 0.00625, 0.003125, 0.0015625, 0.00078125]\n",
    "\n",
    "# List of means for each temperature\n",
    "mean_dists = []\n",
    "\n",
    "# Run 20 simulations of each potential initial temperature\n",
    "for initial_temp in initial_temps:\n",
    "    # List of distances for each run of this temperature\n",
    "    distances = []\n",
    "    for i in range(20):\n",
    "        solution, history, history_temp = simulated_annealing(graph, distance, \n",
    "                                    initial_path, initial_temp, nbefore,\n",
    "                                    iterr, changepath, nswaps, reheat, cool)\n",
    "        distances.append(distance(graph,solution))\n",
    "    mean_dists.append(np.mean(distances))\n",
    "\n",
    "# Create a dictionary of the mean\n",
    "temp_dist_dict = dict(zip(mean_dists,initial_temps))\n",
    "\n",
    "# Find the minimum average distance that was found:\n",
    "min_dist = np.min(temp_dist_dict.keys())\n",
    "\n",
    "# Find the temperature corresponding to that distance\n",
    "best_temp = temp_dist_dict[min_dist]\n",
    "\n",
    "# The rest are repetitions of the above for each parameter:\n",
    "mean_dists = []\n",
    "for cool in initial_cools:\n",
    "    distances = []\n",
    "    for i in range(20):\n",
    "        solution, history, history_temp = simulated_annealing(graph, distance, \n",
    "                                    initial_path, initial_temp, nbefore,\n",
    "                                    iterr, changepath, nswaps, reheat, cool)\n",
    "        distances.append(distance(graph,solution))\n",
    "    mean_dists.append(np.mean(distances))\n",
    "\n",
    "cool_dist_dict = dict(zip(mean_dists,initial_cools))\n",
    "min_dist = np.min(cool_dist_dict.keys())\n",
    "cool = cool_dist_dict[min_dist]\n",
    "\n",
    "\n",
    "mean_dists = []\n",
    "for nbefore in initial_nbefores:\n",
    "    distances = []\n",
    "    for i in range(20):\n",
    "        solution, history, history_temp = simulated_annealing(graph, distance, \n",
    "                                    initial_path, initial_temp, nbefore,\n",
    "                                    iterr, changepath, nswaps, reheat, cool)\n",
    "        distances.append(distance(graph,solution))\n",
    "    mean_dists.append(np.mean(distances))\n",
    "nbefore_dist_dict = dict(zip(mean_dists,initial_nbefores))\n",
    "min_dist = np.min(nbefore_dist_dict.keys())\n",
    "nbefore = nbefore_dist_dict[min_dist]\n",
    "\n",
    "mean_dists = []\n",
    "for nswaps in initial_nswaps:\n",
    "    distances = []\n",
    "    for i in range(20):\n",
    "        solution, history, history_temp = simulated_annealing(graph, distance, \n",
    "                                    initial_path, initial_temp, nbefore,\n",
    "                                    iterr, changepath, nswaps, reheat, cool)\n",
    "        distances.append(distance(graph,solution))\n",
    "    mean_dists.append(np.mean(distances))\n",
    "nswaps_dist_dict = dict(zip(mean_dists,initial_nswaps))\n",
    "min_dist = np.min(nswaps_dist_dict.keys())\n",
    "nswaps = nswaps_dist_dict[min_dist]\n",
    "\n",
    "mean_dists = []\n",
    "for reheat in initial_reheat:\n",
    "    distances = []\n",
    "    for i in range(20):\n",
    "        solution, history, history_temp = simulated_annealing(graph, distance, \n",
    "                                    initial_path, initial_temp, nbefore,\n",
    "                                    iterr, changepath, nswaps, reheat, cool)\n",
    "        distances.append(distance(graph,solution))\n",
    "    mean_dists.append(np.mean(distances))\n",
    "reheat_dist_dict = dict(zip(mean_dists,initial_reheat))\n",
    "min_dist = np.min(reheat_dist_dict.keys())\n",
    "reheat = reheat_dist_dict[min_dist]\n",
    "\n",
    "print \"Best temperature found: \", temp\n",
    "print \"Best cool found: \", cool\n",
    "print \"Best nbefore found: \", nbefore\n",
    "print \"Best nswaps found:\", nswaps\n",
    "print \"Best reheat: \", reheat"
   ]
  },
  {
   "cell_type": "code",
   "execution_count": 90,
   "metadata": {
    "collapsed": true
   },
   "outputs": [],
   "source": [
    "solution, history, history_temp = simulated_annealing(graph, distance, \n",
    "                                    initial_path, initial_temp, nbefore,\n",
    "                                    iterr, changepath, nswaps, reheat, cool)"
   ]
  },
  {
   "cell_type": "code",
   "execution_count": 93,
   "metadata": {
    "collapsed": false
   },
   "outputs": [
    {
     "name": "stdout",
     "output_type": "stream",
     "text": [
      "937.0\n",
      "Wall time: 4min 17s\n"
     ]
    }
   ],
   "source": [
    "%%time\n",
    "iterr = 4000000\n",
    "solution, history, history_temp = simulated_annealing(graph, distance, \n",
    "                                    initial_path, initial_temp, nbefore,\n",
    "                                    iterr, changepath, nswaps, reheat, cool)\n",
    "print distance(graph,solution)"
   ]
  },
  {
   "cell_type": "code",
   "execution_count": 98,
   "metadata": {
    "collapsed": true
   },
   "outputs": [],
   "source": [
    "initial_temps = [1, np.sqrt(5), np.sqrt(5**2), np.sqrt(5**3)]\n",
    "initial_path = [initial_path, initial_path, initial_path, initial_path]\n",
    "\n",
    "nbefore = 100\n",
    "nswaps = 3\n"
   ]
  },
  {
   "cell_type": "code",
   "execution_count": 33,
   "metadata": {
    "collapsed": false
   },
   "outputs": [
    {
     "data": {
      "image/png": "[encoded data removed]",
      "text/plain": [
       "<matplotlib.figure.Figure at 0xac22a58>"
      ]
     },
     "metadata": {},
     "output_type": "display_data"
    }
   ],
   "source": [
    "ba = '####1 processes: 1.4 sec####2 processes: 1.8 sec####3 processes: 2.7 sec####4 processes: 3.0 sec####5 processes: 4.5 sec####6 processes: 5.1 sec####7 processes: 6.0 sec####8 processes: 6.8 sec'\n",
    "bu = [ba[(24*i+17):(24*i+20)] for i in range(8)]\n",
    "num_processors = np.array(range(8))+np.array([1]*8)\n",
    "plt.xlabel('Number of Processes')\n",
    "plt.ylabel('Efficiency (seconds/process)')\n",
    "plt.title('Comparison of Time Efficiency For Different Number of Processes')\n",
    "plt.plot(num_processors, [np.float(bu[i])/num_processors[i] for i in range(8)])\n"
   ]
  }
 ],
 "metadata": {
  "kernelspec": {
   "display_name": "Python 2",
   "language": "python",
   "name": "python2"
  },
  "language_info": {
   "codemirror_mode": {
    "name": "ipython",
    "version": 2
   },
   "file_extension": ".py",
   "mimetype": "text/x-python",
   "name": "python",
   "nbconvert_exporter": "python",
   "pygments_lexer": "ipython2",
   "version": "2.7.10"
  }
 },
 "nbformat": 4,
 "nbformat_minor": 0
}
